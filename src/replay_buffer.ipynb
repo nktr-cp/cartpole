{
 "cells": [
  {
   "cell_type": "code",
   "execution_count": 9,
   "id": "9ae79bd2-1d0a-4fe0-9de5-fc440b9699d2",
   "metadata": {},
   "outputs": [],
   "source": [
    "from collections import deque\n",
    "import random\n",
    "import numpy as np\n",
    "\n",
    "class ReplayBuffer:\n",
    "    def __init__(self, buffer_size, batch_size):\n",
    "        self.buffer = deque(maxlen=buffer_size)\n",
    "        self.batch_size = batch_size\n",
    "\n",
    "    def add(self, state, action, reward, next_state, done):\n",
    "        data = (state, action, reward, next_state, done)\n",
    "        self.buffer.append(data)\n",
    "\n",
    "    def __len__(self):\n",
    "        return len(self.buffer)\n",
    "\n",
    "    def get_batch(self):\n",
    "        data = random.sample(self.buffer, self.batch_size)\n",
    "\n",
    "        state = np.stack([x[0] for x in data])\n",
    "        action = np.array([x[1] for x in data])\n",
    "        reward = np.array([x[2] for x in data])\n",
    "        next_state = np.stack([x[3] for x in data])\n",
    "        done = np.array([x[4] for x in data]).astype(np.int32)\n",
    "        return state, action, reward, next_state, done"
   ]
  },
  {
   "cell_type": "code",
   "execution_count": 10,
   "id": "27b88eeb-cdd4-4bf7-b57e-c7a981823941",
   "metadata": {},
   "outputs": [
    {
     "name": "stdout",
     "output_type": "stream",
     "text": [
      "(32, 4)\n",
      "(32,)\n",
      "(32,)\n",
      "(32, 4)\n",
      "(32,)\n"
     ]
    }
   ],
   "source": [
    "import gym\n",
    "\n",
    "env = gym.make('CartPole-v0')\n",
    "replay_buffer = ReplayBuffer(buffer_size=10000, batch_size=32)\n",
    "\n",
    "for episode in range(10):\n",
    "    state = env.reset()\n",
    "    done = False\n",
    "\n",
    "    while not done:\n",
    "        action = 0\n",
    "        next_state, reward, done, info = env.step(action)\n",
    "        replay_buffer.add(state, action, reward, next_state, done)\n",
    "        state = next_state\n",
    "\n",
    "state, action, reward, next_state, done = replay_buffer.get_batch()\n",
    "print(state.shape)\n",
    "print(action.shape)\n",
    "print(reward.shape)\n",
    "print(next_state.shape)\n",
    "print(done.shape)"
   ]
  }
 ],
 "metadata": {
  "kernelspec": {
   "display_name": "Python 3 (ipykernel)",
   "language": "python",
   "name": "python3"
  },
  "language_info": {
   "codemirror_mode": {
    "name": "ipython",
    "version": 3
   },
   "file_extension": ".py",
   "mimetype": "text/x-python",
   "name": "python",
   "nbconvert_exporter": "python",
   "pygments_lexer": "ipython3",
   "version": "3.9.6"
  }
 },
 "nbformat": 4,
 "nbformat_minor": 5
}
